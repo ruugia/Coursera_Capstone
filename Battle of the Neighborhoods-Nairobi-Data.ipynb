{
    "cells": [
        {
            "cell_type": "markdown",
            "metadata": {},
            "source": "<a href=\"https://cognitiveclass.ai\"><img src = \"https://ibm.box.com/shared/static/9gegpsmnsoo25ikkbl4qzlvlyjbgxs5x.png\" width = 400> </a>\n\n<h1 align=center><font size = 5>Battle of Neighborhoods in Nairobi City</font></h1>\n"
        },
        {
            "cell_type": "markdown",
            "metadata": {},
            "source": "\n"
        },
        {
            "cell_type": "markdown",
            "metadata": {},
            "source": "## Data Description and Analysis Aproach\n\nIn this analysis we shall analyse motor vehicle accidents and crimes (Theft and vandalism) data to help motorists in deciding which divisions are riskier than others while choosing divisions to live, work or do business in. Results findings can also be used by insurance actuaries in creating models for discounting motor vehicle insurance premiums depending on the region or division where a motorist operates or lives.\n\nDivisions will be clustered based on a five-year average combined motor accident and crime rate and we will further analyse the common venues from each division using four square data.\n\n**a) Motor vehicle accidents and crimes (theft and vandalism) related data.** This will be collected from police division headquarters. Insurance companies in Kenya require a police report to pay any motor related claims. We will take an average of five-year incidences.\nThis data will assist in clustering of Nairobi city divisions into regions of varying motor risk status.\n\n**b) Google Map search to get the Geo co-ordinates of each police division headquarters as the central point for the city divisions.**\nUsing police division headquarters geo-location, we can use four square data to find out the most common venues within each division and we can relate this data with population and average motor vehicle accident and crime incidences to infer correlations.\n\n**c) We will use four square API to get most common venues** within a division using the division police headquarters as the central point.\nWe will review the connections between motor vehicle accident incidences with the four square rated common venues in each area.\n\n**d)Population census data**\nUsing this data, we will infer if there is any correlation between motor vehicle accident incidences and population data of a regions. Four square data also on common areas will be reviewed again the population density and common areas returned.\nNairobi city divisions will be clustered based on the average motor vehicle and crimes reported incidences and most common areas from these divisions will be analyzed. Clustering will be based on high to low risk. From the results motorists (businesspeople and workers) will be able to make decisions on which divisions to live or work while insurances companies can use the findings to develop insurance premium discounting models. \n\n"
        },
        {
            "cell_type": "markdown",
            "metadata": {},
            "source": "### Data Sample and features"
        },
        {
            "cell_type": "code",
            "execution_count": 1,
            "metadata": {},
            "outputs": [],
            "source": "import pandas as pd # library for data analsysis\npd.set_option('display.max_columns', None)\npd.set_option('display.max_rows', None)"
        },
        {
            "cell_type": "markdown",
            "metadata": {},
            "source": "#### Load five year motor accident and crime data per police division head quarter with their geo positioning data\nMain Data features that will be used are; **Police Division**, incidents\n**5 Years Average**,**Latitude** and **Longitude**"
        },
        {
            "cell_type": "code",
            "execution_count": 2,
            "metadata": {},
            "outputs": [
                {
                    "data": {
                        "text/html": "<div>\n<style scoped>\n    .dataframe tbody tr th:only-of-type {\n        vertical-align: middle;\n    }\n\n    .dataframe tbody tr th {\n        vertical-align: top;\n    }\n\n    .dataframe thead th {\n        text-align: right;\n    }\n</style>\n<table border=\"1\" class=\"dataframe\">\n  <thead>\n    <tr style=\"text-align: right;\">\n      <th></th>\n      <th>Police Division</th>\n      <th>Head Quarter (Police Stations)</th>\n      <th>Police Satation covered</th>\n      <th>2019</th>\n      <th>2018</th>\n      <th>2017</th>\n      <th>2016</th>\n      <th>2015</th>\n      <th>5 years Total</th>\n      <th>5 years Average</th>\n      <th>Latitude</th>\n      <th>Longitude</th>\n    </tr>\n  </thead>\n  <tbody>\n    <tr>\n      <th>0</th>\n      <td>CENTRAL</td>\n      <td>CENTRAL</td>\n      <td>Central</td>\n      <td>207</td>\n      <td>257</td>\n      <td>236</td>\n      <td>198</td>\n      <td>246</td>\n      <td>1144</td>\n      <td>228.8</td>\n      <td>-1.279451</td>\n      <td>36.818635</td>\n    </tr>\n    <tr>\n      <th>1</th>\n      <td>KILIMANI</td>\n      <td>KILIMANI</td>\n      <td>Kilimani</td>\n      <td>231</td>\n      <td>189</td>\n      <td>210</td>\n      <td>336</td>\n      <td>255</td>\n      <td>1221</td>\n      <td>244.2</td>\n      <td>-1.291653</td>\n      <td>36.795152</td>\n    </tr>\n    <tr>\n      <th>2</th>\n      <td>GIGIRI</td>\n      <td>GIGIRI</td>\n      <td>Gigiri</td>\n      <td>173</td>\n      <td>206</td>\n      <td>223</td>\n      <td>420</td>\n      <td>176</td>\n      <td>1198</td>\n      <td>239.6</td>\n      <td>-1.236273</td>\n      <td>36.808864</td>\n    </tr>\n    <tr>\n      <th>3</th>\n      <td>BURUBURU</td>\n      <td>BURUBURU</td>\n      <td>Buru Buru</td>\n      <td>145</td>\n      <td>242</td>\n      <td>208</td>\n      <td>241</td>\n      <td>228</td>\n      <td>1064</td>\n      <td>212.8</td>\n      <td>-1.279361</td>\n      <td>36.878418</td>\n    </tr>\n    <tr>\n      <th>4</th>\n      <td>EMBAKASI</td>\n      <td>EMBAKASI</td>\n      <td>Embakasi</td>\n      <td>163</td>\n      <td>316</td>\n      <td>289</td>\n      <td>304</td>\n      <td>248</td>\n      <td>1320</td>\n      <td>264.0</td>\n      <td>-1.309654</td>\n      <td>36.913263</td>\n    </tr>\n  </tbody>\n</table>\n</div>",
                        "text/plain": "  Police Division Head Quarter (Police Stations) Police Satation covered  \\\n0         CENTRAL                        CENTRAL                 Central   \n1        KILIMANI                       KILIMANI                Kilimani   \n2          GIGIRI                         GIGIRI                  Gigiri   \n3        BURUBURU                       BURUBURU               Buru Buru   \n4        EMBAKASI                       EMBAKASI                Embakasi   \n\n   2019  2018  2017  2016  2015  5 years Total  5 years Average  Latitude   \\\n0   207   257   236   198   246           1144            228.8  -1.279451   \n1   231   189   210   336   255           1221            244.2  -1.291653   \n2   173   206   223   420   176           1198            239.6  -1.236273   \n3   145   242   208   241   228           1064            212.8  -1.279361   \n4   163   316   289   304   248           1320            264.0  -1.309654   \n\n   Longitude  \n0  36.818635  \n1  36.795152  \n2  36.808864  \n3  36.878418  \n4  36.913263  "
                    },
                    "execution_count": 2,
                    "metadata": {},
                    "output_type": "execute_result"
                }
            ],
            "source": "Motor_acc_data = pd.read_csv(\"Police_data_Motor_Vehicle_crime_with_Geocodes_Summary.csv\")\nMotor_acc_data.head()"
        },
        {
            "cell_type": "code",
            "execution_count": null,
            "metadata": {},
            "outputs": [],
            "source": ""
        }
    ],
    "metadata": {
        "kernelspec": {
            "display_name": "Python",
            "language": "python",
            "name": "conda-env-python-py"
        },
        "language_info": {
            "codemirror_mode": {
                "name": "ipython",
                "version": 3
            },
            "file_extension": ".py",
            "mimetype": "text/x-python",
            "name": "python",
            "nbconvert_exporter": "python",
            "pygments_lexer": "ipython3",
            "version": "3.6.12"
        },
        "widgets": {
            "state": {},
            "version": "1.1.2"
        }
    },
    "nbformat": 4,
    "nbformat_minor": 4
}