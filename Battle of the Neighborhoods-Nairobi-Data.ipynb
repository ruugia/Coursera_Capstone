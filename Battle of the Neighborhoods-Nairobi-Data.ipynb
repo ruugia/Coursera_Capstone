{
    "cells": [
        {
            "metadata": {},
            "cell_type": "markdown",
            "source": "<a href=\"https://cognitiveclass.ai\"><img src = \"https://ibm.box.com/shared/static/9gegpsmnsoo25ikkbl4qzlvlyjbgxs5x.png\" width = 400> </a>\n\n<h1 align=center><font size = 5>Battle of Neighborhoods in Nairobi City</font></h1>\n"
        },
        {
            "metadata": {},
            "cell_type": "markdown",
            "source": "\n"
        },
        {
            "metadata": {},
            "cell_type": "markdown",
            "source": "## Data Description and Analysis Aproach\n\nIn this analysis we shall analyse motor vehicle accidents and crimes (Theft and vandalism) data to help motorists in deciding which divisions are riskier than others while choosing divisions to live, work or do business in. Results findings can also be used by insurance actuaries in creating models for discounting motor vehicle insurance premiums depending on the region or division where a motorist operates or lives.\n\nDivisions will be clustered based on a five-year average combined motor accident and crime rate and we will further analyse the common venues from each division using four square data.\n\n**a) Motor vehicle accidents and crimes (theft and vandalism) related data.** This will be collected from police division headquarters. Insurance companies in Kenya require a police report to pay any motor related claims. We will take an average of five-year incidences.\nThis data will assist in clustering of Nairobi city divisions into regions of varying motor risk status.\n\n**b) Google Map search to get the Geo co-ordinates of each police division headquarters as the central point for the city divisions.**\nUsing police division headquarters geo-location, we can use four square data to find out the most common venues within each division and we can relate this data with population and average motor vehicle accident and crime incidences to infer correlations.\n\n**c) We will use four square API to get most common venues** within a division using the division police headquarters as the central point.\nWe will review the connections between motor vehicle accident incidences with the four square rated common venues in each area.\n\n**d)Population census data**\nUsing this data, we will infer if there is any correlation between motor vehicle accident incidences and population data of a regions. Four square data also on common areas will be reviewed again the population density and common areas returned.\nNairobi city divisions will be clustered based on the average motor vehicle and crimes reported incidences and most common areas from these divisions will be analyzed. Clustering will be based on high to low risk. From the results motorists (businesspeople and workers) will be able to make decisions on which divisions to live or work while insurances companies can use the findings to develop insurance premium discounting models. \n\n"
        },
        {
            "metadata": {},
            "cell_type": "code",
            "source": "",
            "execution_count": null,
            "outputs": []
        }
    ],
    "metadata": {
        "kernelspec": {
            "name": "python3",
            "display_name": "Python 3.7",
            "language": "python"
        },
        "language_info": {
            "name": "python",
            "version": "3.7.9",
            "mimetype": "text/x-python",
            "codemirror_mode": {
                "name": "ipython",
                "version": 3
            },
            "pygments_lexer": "ipython3",
            "nbconvert_exporter": "python",
            "file_extension": ".py"
        },
        "widgets": {
            "state": {},
            "version": "1.1.2"
        }
    },
    "nbformat": 4,
    "nbformat_minor": 4
}