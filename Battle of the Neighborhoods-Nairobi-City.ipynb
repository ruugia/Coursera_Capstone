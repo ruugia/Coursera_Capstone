{
    "cells": [
        {
            "metadata": {},
            "cell_type": "markdown",
            "source": "<a href=\"https://cognitiveclass.ai\"><img src = \"https://ibm.box.com/shared/static/9gegpsmnsoo25ikkbl4qzlvlyjbgxs5x.png\" width = 400> </a>\n\n<h1 align=center><font size = 5>Battle of Neighborhoods in Nairobi City</font></h1>\n"
        },
        {
            "metadata": {},
            "cell_type": "markdown",
            "source": "## Table of Contents\n\n<div class=\"alert alert-block alert-info\" style=\"margin-top: 20px\">\n\n<font size = 3>\n\n1.0  <a href=\"#item1\">Introduction</a>\n\n1.1  <a href=\"#item2\">Background and Problem Description</a>\n\n1.2  <a href=\"#item4\">Data Description</a>\n\n    \n"
        },
        {
            "metadata": {},
            "cell_type": "markdown",
            "source": "\n"
        },
        {
            "metadata": {},
            "cell_type": "markdown",
            "source": "# 1.0 Introduction\n\n## 1.1 Background and Problem Description\nNairobi city is the largest and capital city of Kenya. The city derives its name from the famous fierce Maasai tribe word which is stereotypically known for killing lions for one to graduate from a boy to a Moran or tribe warrior. Nairobi means \u201ccool water\u201d usually a reference from the Nairobi river flowing through the city.\nNairobi is the most populous city in Central and Eastern Africa with a population of 4,397,073 inhabitants lived within 696 km2 (269 sq mi) according to 2019 national Kenyan census. (Wikipedia, 2021). This is a population density of 6,317.6/km2.  \nDue to the populous nature of Nairobi city and other demographic details like unemployment and low income, insecurity becomes a challenge especially for the middle class and the affluent. The city has 13 divisions, and each division has a head quarter with a police division head quarter where all accidents and other crimes are reported. \n\nIn this analysis we shall analyse motor vehicle accidents and crimes (Theft and vandalism) data to help motorists in deciding which divisions are riskier than others while choosing divisions to live, work or do business in. Results findings can also be used by insurance actuaries in creating models for discounting motor vehicle insurance premiums depending on the region or division where a motorist operates or lives.  \nDivisions will be clustered based on a five-year average combined motor accident and crime rate and we will further analyse the common venues from each division using four square data.\n"
        },
        {
            "metadata": {},
            "cell_type": "markdown",
            "source": "## 1.2 Data Description\n**a) Motor vehicle accidents and crimes (theft and vandalism) related data.** This will be collected from police division headquarters. Insurance companies in Kenya require a police report to pay any motor related claims. We will take an average of five-year incidences.\n\n**b) Google Map search to get the Geo co-ordinates of each police division headquarters.** as the central point for the city divisions.\n\n**c) We will use four square API to get most common venues** within a division using the division police headquarters as the central point.\n\nNairobi city divisions will be clustered based on the average motor vehicle and crimes reported incidences and most common areas from these divisions will be analyzed. Clustering will be based on high to low risk. From the results motorists will be able to make decisions on which divisions to live or work while insurances companies can use the findings to develop insurance premium discounting models. \n"
        },
        {
            "metadata": {},
            "cell_type": "code",
            "source": "",
            "execution_count": null,
            "outputs": []
        }
    ],
    "metadata": {
        "kernelspec": {
            "name": "python3",
            "display_name": "Python 3.7",
            "language": "python"
        },
        "language_info": {
            "name": "python",
            "version": "3.7.9",
            "mimetype": "text/x-python",
            "codemirror_mode": {
                "name": "ipython",
                "version": 3
            },
            "pygments_lexer": "ipython3",
            "nbconvert_exporter": "python",
            "file_extension": ".py"
        },
        "widgets": {
            "state": {},
            "version": "1.1.2"
        }
    },
    "nbformat": 4,
    "nbformat_minor": 4
}