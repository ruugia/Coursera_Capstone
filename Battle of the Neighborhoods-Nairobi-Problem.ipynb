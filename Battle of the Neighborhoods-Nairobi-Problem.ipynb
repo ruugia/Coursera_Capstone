{
    "cells": [
        {
            "metadata": {},
            "cell_type": "markdown",
            "source": "<a href=\"https://cognitiveclass.ai\"><img src = \"https://ibm.box.com/shared/static/9gegpsmnsoo25ikkbl4qzlvlyjbgxs5x.png\" width = 400> </a>\n\n<h1 align=center><font size = 5>Battle of Neighborhoods in Nairobi City</font></h1>\n"
        },
        {
            "metadata": {},
            "cell_type": "markdown",
            "source": "## Table of Contents\n\n<div class=\"alert alert-block alert-info\" style=\"margin-top: 20px\">\n\n<font size = 3>\n\n1.0  <a href=\"#item1\">Introduction</a>\n\n1.1  <a href=\"#item2\">Background Informationn</a>\n\n1.2  <a href=\"#item4\">Problem Description</a>\n\n    \n"
        },
        {
            "metadata": {},
            "cell_type": "markdown",
            "source": "\n"
        },
        {
            "metadata": {},
            "cell_type": "markdown",
            "source": "# 1.0 Introduction\n\n## 1.1 Background and Problem Description\nNairobi city is the largest and capital city of Kenya. the city derived its name from the famous fierce Maasai tribe which is stereotypically know for killing lions for one to graduate from a boy to a Moran or tribe warrior. Nairobi means \u201ccool water\u201d usually a reference from the Nairobi river flowing through the city.\nNairobi I the most populous city in Central and Eastern Africa with a population of 4,397,073 inhabitants lived within 696 km2 (269 sq mi) according to 2019 national Kenyan census. (Wikipedia, 2021). This is a population density of 6,317.6/km2. \nThe city has 13 divisions, and each division has a head quarter with a police division head quarter where all accidents and other crimes are reported.\n\n## 1.2 Problem Description\n\n**What are the safest Nairobi City Divisions to work and live in?**\n\nDue to the populous nature of Nairobi city and other demographic details like unemployment and low income, insecurity becomes a challenge especially for the middle class and the affluent. The study is meant to inform new employees or business owners operating motor vehicles on the motor risk of each division to help them set company base or residential home.\nInsurance companies also would like to give discounts depending on the risk factor of the region or division of operation. Customers operating from less densely populated areas with low risk will get premium discounts on their motor vehicle insurance covers. \n"
        },
        {
            "metadata": {},
            "cell_type": "code",
            "source": "",
            "execution_count": null,
            "outputs": []
        }
    ],
    "metadata": {
        "kernelspec": {
            "name": "python3",
            "display_name": "Python 3.7",
            "language": "python"
        },
        "language_info": {
            "name": "python",
            "version": "3.7.9",
            "mimetype": "text/x-python",
            "codemirror_mode": {
                "name": "ipython",
                "version": 3
            },
            "pygments_lexer": "ipython3",
            "nbconvert_exporter": "python",
            "file_extension": ".py"
        },
        "widgets": {
            "state": {},
            "version": "1.1.2"
        }
    },
    "nbformat": 4,
    "nbformat_minor": 4
}